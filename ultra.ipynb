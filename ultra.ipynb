{
 "cells": [
  {
   "cell_type": "code",
   "execution_count": 1,
   "metadata": {},
   "outputs": [],
   "source": [
    "import pandas as pd\n",
    "\n",
    "data = pd.read_excel('Data.xlsx', sheet_name='RAW DATA')"
   ]
  },
  {
   "attachments": {},
   "cell_type": "markdown",
   "metadata": {},
   "source": [
    "**What is the net UOS revenue for August and September?**\n",
    "\n",
    "Net revenue is the difference between sum of credit and debit of successful transactions."
   ]
  },
  {
   "cell_type": "code",
   "execution_count": 2,
   "metadata": {},
   "outputs": [
    {
     "name": "stdout",
     "output_type": "stream",
     "text": [
      "Net Revenue = -2,517,673.03297794 UOS\n"
     ]
    }
   ],
   "source": [
    "totalCredit = data[data['status'] == 'confirmed']['credit'].sum()\n",
    "totalDebit = data[data['status'] == 'confirmed']['debit'].sum()\n",
    "netRevenue = totalCredit - totalDebit\n",
    "\n",
    "print(f'Net Revenue = {netRevenue: ,} UOS')"
   ]
  },
  {
   "attachments": {},
   "cell_type": "markdown",
   "metadata": {},
   "source": [
    "**What is the net USD revenue for August and September? (you can use the average daily UOS-USD rate as basis)**\n",
    "\n",
    "Today's average daily UOS-USD is approximately $0.19 (December 21, 2022).\n",
    "\n",
    "Thus, Net USD revenue is calculated by multiplying UOS revenue by UOS-USD rate."
   ]
  },
  {
   "cell_type": "code",
   "execution_count": 3,
   "metadata": {},
   "outputs": [
    {
     "name": "stdout",
     "output_type": "stream",
     "text": [
      "Net USD revenue = $-478,357.8762658086\n"
     ]
    }
   ],
   "source": [
    "UOSUSD = 0.19\n",
    "netUSDRevenue = netRevenue * UOSUSD;\n",
    "\n",
    "print(f'Net USD revenue = ${ netUSDRevenue: ,}')"
   ]
  },
  {
   "attachments": {},
   "cell_type": "markdown",
   "metadata": {},
   "source": [
    "**How many successful transactions did we have?**\n",
    "\n",
    "Total number of transactions with status of \"confirmed\"."
   ]
  },
  {
   "cell_type": "code",
   "execution_count": 4,
   "metadata": {},
   "outputs": [
    {
     "name": "stdout",
     "output_type": "stream",
     "text": [
      "Successful transactions = 8816\n"
     ]
    }
   ],
   "source": [
    "totalSuccessfulTransactions = data[data['status'] == 'confirmed'].count()[0];\n",
    "\n",
    "print(f'Successful transactions = {totalSuccessfulTransactions}')"
   ]
  },
  {
   "attachments": {},
   "cell_type": "markdown",
   "metadata": {},
   "source": [
    "**How many successful buyers did we have?**\n",
    "\n",
    "This is achieved by calculating unique accounts among successful transactions."
   ]
  },
  {
   "cell_type": "code",
   "execution_count": 5,
   "metadata": {},
   "outputs": [
    {
     "name": "stdout",
     "output_type": "stream",
     "text": [
      "Successful buyers = 431\n"
     ]
    }
   ],
   "source": [
    "totalSuccessfulBuyers = data[data['status'] == 'confirmed']['from'].nunique()\n",
    "\n",
    "print(f'Successful buyers = {totalSuccessfulBuyers}')"
   ]
  },
  {
   "attachments": {},
   "cell_type": "markdown",
   "metadata": {},
   "source": [
    "**What is the average basket for successful transactions?**\n",
    "\n",
    "Average basket is the sum of total successful transactions values divided by the number of them."
   ]
  },
  {
   "cell_type": "code",
   "execution_count": 6,
   "metadata": {},
   "outputs": [
    {
     "name": "stdout",
     "output_type": "stream",
     "text": [
      "Average basket for successful transactions = 452.2995495034097 UOS\n"
     ]
    }
   ],
   "source": [
    "successfulTransactions = data[data['status'] == 'confirmed']\n",
    "averageBasket = (successfulTransactions['debit'].sum() + successfulTransactions['credit'].sum()) / totalSuccessfulTransactions\n",
    "\n",
    "print(f'Average basket for successful transactions = {averageBasket} UOS')"
   ]
  },
  {
   "attachments": {},
   "cell_type": "markdown",
   "metadata": {},
   "source": [
    "**What is the refund rate for August and September?**\n",
    "\n",
    "Refund rate is refunded transactions divided by total transactions."
   ]
  },
  {
   "cell_type": "code",
   "execution_count": 7,
   "metadata": {},
   "outputs": [
    {
     "name": "stdout",
     "output_type": "stream",
     "text": [
      "Refund rate = 43.392834210864265%\n"
     ]
    }
   ],
   "source": [
    "totalRefundedTransactions = data[data['status'] == 'refunded'].count()[0]\n",
    "totalTransactions = data.count()[0]\n",
    "refundRate = totalRefundedTransactions / totalTransactions\n",
    "\n",
    "print(f'Refund rate = {refundRate * 100}%')"
   ]
  },
  {
   "attachments": {},
   "cell_type": "markdown",
   "metadata": {},
   "source": [
    "**Considering \"from\" field as the buyer, how many of them had a successful transactions, what is our current buyer success rate?**\n",
    "\n",
    "Considering number of unique users in all successful transactions as successful buyers:"
   ]
  },
  {
   "cell_type": "code",
   "execution_count": 8,
   "metadata": {},
   "outputs": [
    {
     "name": "stdout",
     "output_type": "stream",
     "text": [
      "There are 431 successful buyers and buyer success rate is 68.30427892234549%\n"
     ]
    }
   ],
   "source": [
    "totalSuccessfulBuyers = data[data['status'] == 'confirmed']['from'].nunique()\n",
    "totalBuyers = data['from'].nunique()\n",
    "buyerSuccessRate = (totalSuccessfulBuyers / totalBuyers) * 100\n",
    "\n",
    "print(f'There are {totalSuccessfulBuyers} successful buyers and buyer success rate is {buyerSuccessRate}%')"
   ]
  },
  {
   "attachments": {},
   "cell_type": "markdown",
   "metadata": {},
   "source": [
    "**Considering \"from\" field as the buyer, can you tell who are the 10 buyers? Please exclude ultra.games from the data**"
   ]
  },
  {
   "cell_type": "code",
   "execution_count": 9,
   "metadata": {},
   "outputs": [
    {
     "name": "stdout",
     "output_type": "stream",
     "text": [
      "from\n",
      "dn1ns2og3ka4    10754.890000\n",
      "aa1aa2ab3ef4     8919.170000\n",
      "us1gu2ai3oc4     8633.100000\n",
      "hm1uz2sm3tp4     8552.070000\n",
      "ie1tx2gg3oc4     8460.610000\n",
      "ia1rz2gc3uv4     7471.947722\n",
      "ce1hf2yf3oj4     6969.760000\n",
      "ge1wo2vp3zy4     6303.200000\n",
      "fm1ij2fo3yl4     6199.380000\n",
      "pl1pu2hb3ir4     6114.150000\n",
      "Name: credit, dtype: float64\n"
     ]
    }
   ],
   "source": [
    "uniqueBuyers = data[(data['from'] != 'ultra.games') & (data['status'] == 'confirmed')].groupby('from')['credit'].sum()\n",
    "\n",
    "print(uniqueBuyers.sort_values(ascending=False)[:10])"
   ]
  }
 ],
 "metadata": {
  "kernelspec": {
   "display_name": "Python 3",
   "language": "python",
   "name": "python3"
  },
  "language_info": {
   "codemirror_mode": {
    "name": "ipython",
    "version": 3
   },
   "file_extension": ".py",
   "mimetype": "text/x-python",
   "name": "python",
   "nbconvert_exporter": "python",
   "pygments_lexer": "ipython3",
   "version": "3.11.0 (main, Oct 24 2022, 18:26:48) [MSC v.1933 64 bit (AMD64)]"
  },
  "orig_nbformat": 4,
  "vscode": {
   "interpreter": {
    "hash": "086c0866c451fd95944a522cc6ebad171c018bb6766ed901552ff0cb35cb08ca"
   }
  }
 },
 "nbformat": 4,
 "nbformat_minor": 2
}
